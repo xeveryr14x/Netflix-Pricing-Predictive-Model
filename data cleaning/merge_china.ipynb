{
 "cells": [
  {
   "cell_type": "code",
   "execution_count": 1,
   "metadata": {},
   "outputs": [],
   "source": [
    "import pandas as pd\n",
    "import numpy as np"
   ]
  },
  {
   "cell_type": "code",
   "execution_count": null,
   "metadata": {},
   "outputs": [],
   "source": [
    "df_user = pd.read_excel('user penetration.xlsx')"
   ]
  },
  {
   "cell_type": "code",
   "execution_count": 4,
   "metadata": {},
   "outputs": [],
   "source": [
    "df_user = pd.read_excel('user penetration.xlsx')\n",
    "df_market = pd.read_excel('market size.xlsx')\n",
    "df_pop = pd.read_csv('Country_population.csv')\n",
    "df_pop.drop(['Country Code'], axis=1, inplace=True)\n",
    "df_edu = pd.read_excel('education index.xlsx')\n",
    "df_edu['Country'] = df_edu['Country'].str.strip()\n",
    "df_freedom = pd.read_excel('freedom index.xlsx')\n",
    "df_freedom.drop(['Unnamed: 0'], axis=1, inplace=True)\n",
    "df_immi = pd.read_csv('immigration-by-country-2024.csv')\n",
    "df_int = pd.read_excel('internet_penetration_rate.xlsx')\n",
    "df_int['Country'] = df_int['Country'].str.strip()\n",
    "df_int.drop(['Region','Internet users','Population'], axis=1, inplace=True)\n",
    "df_gdp = pd.read_excel('API_NY.GDP.MKTP.CD_DS2_en_csv_v2_31795.xlsx')\n",
    "df_gdp = df_gdp[['Country', 'g2020', 'g2021', 'g2022', 'g2023']]"
   ]
  },
  {
   "cell_type": "code",
   "execution_count": 5,
   "metadata": {},
   "outputs": [
    {
     "name": "stdout",
     "output_type": "stream",
     "text": [
      "  Country  u2020  u2021  u2022  u2023    m2020    m2021    m2022    m2023  \\\n",
      "0   China   23.0  25.49  26.22  28.28  11630.0  14610.0  16610.0  19360.0   \n",
      "\n",
      "        p2020  ...       p2023  Educ_index  Freedom_index  Immi_perc  \\\n",
      "0  1411100000  ...  1410710000       0.862            172       0.07   \n",
      "\n",
      "      Subregion  penetration rate          g2020         g2021         g2022  \\\n",
      "0  Eastern Asia              0.773  1.470000e+13  1.780000e+13  1.790000e+13   \n",
      "\n",
      "          g2023  \n",
      "0  1.780000e+13  \n",
      "\n",
      "[1 rows x 22 columns]\n"
     ]
    }
   ],
   "source": [
    "import pandas as pd\n",
    "\n",
    "# 1. 提取每个数据框中 Country == 'China' 的行\n",
    "df_user_china = df_user[df_user['Country'] == 'China']\n",
    "df_market_china = df_market[df_market['Country'] == 'China']\n",
    "df_pop_china = df_pop[df_pop['Country'] == 'China']\n",
    "df_edu_china = df_edu[df_edu['Country'] == 'China']\n",
    "df_freedom_china = df_freedom[df_freedom['Country'] == 'China']\n",
    "df_immi_china = df_immi[df_immi['Country'] == 'China']\n",
    "df_int_china = df_int[df_int['Country'] == 'China']\n",
    "df_gdp_china = df_gdp[df_gdp['Country'] == 'China']\n",
    "\n",
    "# 2. 合并所有提取的数据，基于 'Country' 列\n",
    "df_merged_china = df_user_china.merge(df_market_china, on='Country', how='inner')\\\n",
    "                               .merge(df_pop_china, on='Country', how='inner')\\\n",
    "                               .merge(df_edu_china, on='Country', how='inner')\\\n",
    "                               .merge(df_freedom_china, on='Country', how='inner')\\\n",
    "                               .merge(df_immi_china, on='Country', how='inner')\\\n",
    "                               .merge(df_int_china, on='Country', how='inner')\\\n",
    "                               .merge(df_gdp_china, on='Country', how='inner')\n",
    "\n",
    "# 3. 打印合并后的数据框\n",
    "print(df_merged_china)\n"
   ]
  },
  {
   "cell_type": "code",
   "execution_count": 6,
   "metadata": {},
   "outputs": [],
   "source": [
    "df_merged_china.to_csv('Predict_China.csv')"
   ]
  }
 ],
 "metadata": {
  "interpreter": {
   "hash": "a1fc96eb95a0ebf5dc02c11c47328ae2234e6f8c36cdd201088eda5a8bcd44e3"
  },
  "kernelspec": {
   "display_name": "Python 3.12.4 ('base')",
   "language": "python",
   "name": "python3"
  },
  "language_info": {
   "codemirror_mode": {
    "name": "ipython",
    "version": 3
   },
   "file_extension": ".py",
   "mimetype": "text/x-python",
   "name": "python",
   "nbconvert_exporter": "python",
   "pygments_lexer": "ipython3",
   "version": "3.12.4"
  },
  "orig_nbformat": 4
 },
 "nbformat": 4,
 "nbformat_minor": 2
}
